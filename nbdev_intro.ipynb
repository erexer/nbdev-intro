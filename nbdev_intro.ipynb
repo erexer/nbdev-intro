{
 "cells": [
  {
   "cell_type": "code",
   "execution_count": null,
   "metadata": {},
   "outputs": [],
   "source": [
    "#| default_exp core"
   ]
  },
  {
   "cell_type": "markdown",
   "metadata": {},
   "source": [
    "# nbdev_intro"
   ]
  },
  {
   "cell_type": "code",
   "execution_count": null,
   "metadata": {},
   "outputs": [],
   "source": [
    "#|hide\n",
    "\n",
    "from nbdev.showdoc import *"
   ]
  },
  {
   "cell_type": "code",
   "execution_count": null,
   "metadata": {},
   "outputs": [],
   "source": [
    "#|export\n",
    "def say_hello(name):\n",
    "    \"\"\"\n",
    "    Say hello to the name entered.\n",
    "    \n",
    "    Required argument:\n",
    "    name: (str) name to say hello to\n",
    "    \"\"\"\n",
    "    return f\"Hello {name}!\""
   ]
  },
  {
   "cell_type": "code",
   "execution_count": null,
   "metadata": {},
   "outputs": [
    {
     "data": {
      "text/plain": [
       "'Hello Isaac!'"
      ]
     },
     "execution_count": null,
     "metadata": {},
     "output_type": "execute_result"
    }
   ],
   "source": [
    "say_hello(\"Isaac\")"
   ]
  },
  {
   "cell_type": "code",
   "execution_count": null,
   "metadata": {},
   "outputs": [],
   "source": [
    "#|hide\n",
    "assert say_hello(\"Hamel\")==\"Hello Hamel!\""
   ]
  },
  {
   "cell_type": "code",
   "execution_count": null,
   "metadata": {},
   "outputs": [],
   "source": [
    "#|export\n",
    "  \n",
    "def sieve_of_eratosthenes(num):\n",
    "    \"\"\"\n",
    "    Print all primes less than or equal to N using the Sieve of Eratosthenes. \n",
    "    \n",
    "    Required argument: \n",
    "    num: (int) number, N\n",
    "    \"\"\"\n",
    "    # boolean array\n",
    "    prime = [True for i in range(num+1)]\n",
    "    p = 2\n",
    "    primes = []\n",
    "    \n",
    "    while (p * p <= num):\n",
    "  \n",
    "        # If prime[p] is not changed, then it is a prime\n",
    "        if (prime[p] == True):\n",
    "  \n",
    "            # Updating all multiples of p\n",
    "            for i in range(p * p, num+1, p):\n",
    "                prime[i] = False\n",
    "        p += 1\n",
    "  \n",
    "    # return all prime numbers\n",
    "    for p in range(2, num+1):\n",
    "        if prime[p]:\n",
    "            primes.append(p)\n",
    "    return primes\n",
    "  "
   ]
  },
  {
   "cell_type": "code",
   "execution_count": null,
   "metadata": {},
   "outputs": [
    {
     "data": {
      "text/plain": [
       "[2, 3, 5, 7, 11, 13, 17, 19, 23, 29]"
      ]
     },
     "execution_count": null,
     "metadata": {},
     "output_type": "execute_result"
    }
   ],
   "source": [
    "sieve_of_eratosthenes(30)"
   ]
  },
  {
   "cell_type": "code",
   "execution_count": null,
   "metadata": {},
   "outputs": [],
   "source": [
    "#|hide\n",
    "assert sieve_of_eratosthenes(5) == [2, 3, 5]"
   ]
  },
  {
   "cell_type": "code",
   "execution_count": null,
   "metadata": {},
   "outputs": [],
   "source": []
  }
 ],
 "metadata": {
  "kernelspec": {
   "display_name": "Python 3 (ipykernel)",
   "language": "python",
   "name": "python3"
  }
 },
 "nbformat": 4,
 "nbformat_minor": 4
}

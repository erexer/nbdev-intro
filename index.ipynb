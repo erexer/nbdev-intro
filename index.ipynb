{
 "cells": [
  {
   "cell_type": "code",
   "execution_count": null,
   "metadata": {},
   "outputs": [],
   "source": [
    "#|hide\n",
    "from nbdev_intro.core import *"
   ]
  },
  {
   "cell_type": "markdown",
   "metadata": {},
   "source": [
    "# Motivation and Intro"
   ]
  },
  {
   "cell_type": "markdown",
   "metadata": {},
   "source": [
    "## Intro to nbdev"
   ]
  },
  {
   "cell_type": "markdown",
   "metadata": {},
   "source": [
    "`nbdev` is a package that's meant for _exploratory programming_. It automatically generates documentation and makes tests very easy to write. "
   ]
  },
  {
   "cell_type": "markdown",
   "metadata": {},
   "source": [
    "## Motivation"
   ]
  },
  {
   "cell_type": "markdown",
   "metadata": {},
   "source": [
    "Scientific coding varies greatly from a software developer's workflow. As a scientist, you're most likely experimenting with your code and might have a lot of experiments occuring simultaneously, whereas a software developer might have a more solidified goal in mind. \n",
    "\n",
    "Everyone optimizes their time while prioritizing different areas. Generally scientists optimize for:\n",
    "* correct science\n",
    "* publishing"
   ]
  },
  {
   "cell_type": "markdown",
   "metadata": {},
   "source": [
    "Unfortunately for most scientists who code, science education hasn't caught up with the wide application of Computer Science. Best practices are low on the priority list; things like setting up a dev environment, keeping up with documentation, and writing tests to make sure your code is actually doing what you think it is.\n",
    "\n",
    "This means that most scientific software developers have a hacked-together education in which they learn exactly what they need to know in order to accomplish their most important goals (above). "
   ]
  },
  {
   "cell_type": "markdown",
   "metadata": {},
   "source": [
    "___\n",
    "### [`nbdev`](https://nbdev.fast.ai/)!"
   ]
  },
  {
   "cell_type": "markdown",
   "metadata": {},
   "source": [
    "\n",
    "Here I'll walk through a tool called `nbdev` that trades a small amount of effort for auto-generating documentation and easier tests:\n",
    "* set it and forget it\n",
    "* auto-generating documentation\n",
    "* \"easier\" tests\n",
    "* how to update your files\n",
    "\n",
    "`nbdev` lets you use LaTex. $$\\sum_{n=1}^{\\infty} 2^{-n} = 1$$\n"
   ]
  },
  {
   "cell_type": "markdown",
   "metadata": {},
   "source": [
    "## Takeaways"
   ]
  },
  {
   "cell_type": "markdown",
   "metadata": {},
   "source": [
    "If you're ever going to program, it makes sense to invest some time right now to learn coding best practices. This will both help future-you understand your code, help potential collaborators understand your code, and make it easier to publish your code(especially to something like [JOSS](https://joss.theoj.org/))!\n",
    "\n",
    "Consistency is key so have a system and stick to it, whether it's `nbdev` or regular notebooks or lots of comments. "
   ]
  },
  {
   "cell_type": "code",
   "execution_count": null,
   "metadata": {},
   "outputs": [],
   "source": []
  }
 ],
 "metadata": {
  "kernelspec": {
   "display_name": "Python 3 (ipykernel)",
   "language": "python",
   "name": "python3"
  }
 },
 "nbformat": 4,
 "nbformat_minor": 4
}
